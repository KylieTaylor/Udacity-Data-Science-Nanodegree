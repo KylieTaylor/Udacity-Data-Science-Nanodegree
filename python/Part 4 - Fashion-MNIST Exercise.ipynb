{
 "cells": [
  {
   "cell_type": "markdown",
   "metadata": {},
   "source": [
    "# Classifying Fashion-MNIST\n",
    "\n",
    "Now it's your turn to build and train a neural network. You'll be using the [Fashion-MNIST dataset](https://github.com/zalandoresearch/fashion-mnist), a drop-in replacement for the MNIST dataset. MNIST is actually quite trivial with neural networks where you can easily achieve better than 97% accuracy. Fashion-MNIST is a set of 28x28 greyscale images of clothes. It's more complex than MNIST, so it's a better representation of the actual performance of your network, and a better representation of datasets you'll use in the real world.\n",
    "\n",
    "<img src='assets/fashion-mnist-sprite.png' width=500px>\n",
    "\n",
    "In this notebook, you'll build your own neural network. For the most part, you could just copy and paste the code from Part 3, but you wouldn't be learning. It's important for you to write the code yourself and get it to work. Feel free to consult the previous notebook though as you work through this.\n",
    "\n",
    "First off, let's load the dataset through torchvision."
   ]
  },
  {
   "cell_type": "code",
   "execution_count": 1,
   "metadata": {},
   "outputs": [],
   "source": [
    "import torch\n",
    "from torchvision import datasets, transforms\n",
    "import helper\n",
    "\n",
    "# Define a transform to normalize the data\n",
    "transform = transforms.Compose([transforms.ToTensor(),\n",
    "                                transforms.Normalize((0.5, 0.5, 0.5), (0.5, 0.5, 0.5))])\n",
    "# Download and load the training data\n",
    "trainset = datasets.FashionMNIST('F_MNIST_data/', download=True, train=True, transform=transform)\n",
    "trainloader = torch.utils.data.DataLoader(trainset, batch_size=64, shuffle=True)\n",
    "\n",
    "# Download and load the test data\n",
    "testset = datasets.FashionMNIST('F_MNIST_data/', download=True, train=False, transform=transform)\n",
    "testloader = torch.utils.data.DataLoader(testset, batch_size=64, shuffle=True)"
   ]
  },
  {
   "cell_type": "markdown",
   "metadata": {},
   "source": [
    "Here we can see one of the images."
   ]
  },
  {
   "cell_type": "code",
   "execution_count": 2,
   "metadata": {},
   "outputs": [
    {
     "data": {
      "image/png": "[encoded data removed]",
      "text/plain": [
       "<matplotlib.figure.Figure at 0x7f49c9998978>"
      ]
     },
     "metadata": {
      "needs_background": "light"
     },
     "output_type": "display_data"
    }
   ],
   "source": [
    "image, label = next(iter(trainloader))\n",
    "helper.imshow(image[0,:]);"
   ]
  },
  {
   "cell_type": "markdown",
   "metadata": {},
   "source": [
    "With the data loaded, it's time to import the necessary packages."
   ]
  },
  {
   "cell_type": "code",
   "execution_count": 3,
   "metadata": {},
   "outputs": [],
   "source": [
    "%matplotlib inline\n",
    "%config InlineBackend.figure_format = 'retina'\n",
    "\n",
    "import matplotlib.pyplot as plt\n",
    "import numpy as np\n",
    "import time\n",
    "\n",
    "import torch\n",
    "from torch import nn\n",
    "from torch import optim\n",
    "import torch.nn.functional as F\n",
    "from torchvision import datasets, transforms\n",
    "\n",
    "import helper"
   ]
  },
  {
   "cell_type": "markdown",
   "metadata": {},
   "source": [
    "## Building the network\n",
    "\n",
    "Here you should define your network. As with MNIST, each image is 28x28 which is a total of 784 pixels, and there are 10 classes. You should include at least one hidden layer. We suggest you use ReLU activations for the layers and to return the logits from the forward pass. It's up to you how many layers you add and the size of those layers."
   ]
  },
  {
   "cell_type": "code",
   "execution_count": 10,
   "metadata": {},
   "outputs": [],
   "source": [
    "# TODO: Define your network architecture here\n",
    "input_size = 28*28\n",
    "hidden_sizes = [384,192,64]\n",
    "output_size = 10\n",
    "\n",
    "from collections import OrderedDict\n",
    "model = nn.Sequential(OrderedDict([\n",
    "                        ('fc1', nn.Linear(input_size, hidden_sizes[0])),\n",
    "                        ('relu1', nn.ReLU()),\n",
    "                        ('fc2', nn.Linear(hidden_sizes[0], hidden_sizes[1])),\n",
    "                        ('relu2', nn.ReLU()),\n",
    "                        ('fc3', nn.Linear(hidden_sizes[1], hidden_sizes[2])),\n",
    "                        ('relu3', nn.ReLU()),\n",
    "                        ('logits', nn.Linear(hidden_sizes[2], output_size))]))"
   ]
  },
  {
   "cell_type": "markdown",
   "metadata": {},
   "source": [
    "# Train the network\n",
    "\n",
    "Now you should create your network and train it. First you'll want to define [the criterion](http://pytorch.org/docs/master/nn.html#loss-functions) ( something like `nn.CrossEntropyLoss`) and [the optimizer](http://pytorch.org/docs/master/optim.html) (typically `optim.SGD` or `optim.Adam`).\n",
    "\n",
    "Then write the training code. Remember the training pass is a fairly straightforward process:\n",
    "\n",
    "* Make a forward pass through the network to get the logits \n",
    "* Use the logits to calculate the loss\n",
    "* Perform a backward pass through the network with `loss.backward()` to calculate the gradients\n",
    "* Take a step with the optimizer to update the weights\n",
    "\n",
    "By adjusting the hyperparameters (hidden units, learning rate, etc), you should be able to get the training loss below 0.4."
   ]
  },
  {
   "cell_type": "code",
   "execution_count": 13,
   "metadata": {},
   "outputs": [],
   "source": [
    "# TODO: Create the network, define the criterion and optimizer\n",
    "criterion = nn.CrossEntropyLoss()\n",
    "optimizer = optim.Adam(model.parameters(), lr=0.01)"
   ]
  },
  {
   "cell_type": "code",
   "execution_count": 14,
   "metadata": {},
   "outputs": [
    {
     "name": "stdout",
     "output_type": "stream",
     "text": [
      "Epoch: 1/3... Loss: 1.0964\n",
      "Epoch: 1/3... Loss: 0.7269\n",
      "Epoch: 1/3... Loss: 0.6574\n",
      "Epoch: 1/3... Loss: 0.6447\n",
      "Epoch: 1/3... Loss: 0.5783\n",
      "Epoch: 1/3... Loss: 0.5589\n",
      "Epoch: 1/3... Loss: 0.5752\n",
      "Epoch: 1/3... Loss: 0.5436\n",
      "Epoch: 1/3... Loss: 0.5523\n",
      "Epoch: 1/3... Loss: 0.5425\n",
      "Epoch: 1/3... Loss: 0.5386\n",
      "Epoch: 1/3... Loss: 0.5092\n",
      "Epoch: 1/3... Loss: 0.5406\n",
      "Epoch: 1/3... Loss: 0.4920\n",
      "Epoch: 1/3... Loss: 0.5242\n",
      "Epoch: 1/3... Loss: 0.5440\n",
      "Epoch: 1/3... Loss: 0.5065\n",
      "Epoch: 1/3... Loss: 0.5256\n",
      "Epoch: 2/3... Loss: 0.1178\n",
      "Epoch: 2/3... Loss: 0.4687\n",
      "Epoch: 2/3... Loss: 0.4784\n",
      "Epoch: 2/3... Loss: 0.5003\n",
      "Epoch: 2/3... Loss: 0.4703\n",
      "Epoch: 2/3... Loss: 0.4790\n",
      "Epoch: 2/3... Loss: 0.5118\n",
      "Epoch: 2/3... Loss: 0.5219\n",
      "Epoch: 2/3... Loss: 0.4806\n",
      "Epoch: 2/3... Loss: 0.4675\n",
      "Epoch: 2/3... Loss: 0.4595\n",
      "Epoch: 2/3... Loss: 0.4165\n",
      "Epoch: 2/3... Loss: 0.4403\n",
      "Epoch: 2/3... Loss: 0.4750\n",
      "Epoch: 2/3... Loss: 0.4307\n",
      "Epoch: 2/3... Loss: 0.4526\n",
      "Epoch: 2/3... Loss: 0.4629\n",
      "Epoch: 2/3... Loss: 0.4222\n",
      "Epoch: 2/3... Loss: 0.4494\n",
      "Epoch: 3/3... Loss: 0.2099\n",
      "Epoch: 3/3... Loss: 0.4038\n",
      "Epoch: 3/3... Loss: 0.4505\n",
      "Epoch: 3/3... Loss: 0.4585\n",
      "Epoch: 3/3... Loss: 0.4414\n",
      "Epoch: 3/3... Loss: 0.4290\n",
      "Epoch: 3/3... Loss: 0.4690\n",
      "Epoch: 3/3... Loss: 0.4663\n",
      "Epoch: 3/3... Loss: 0.4589\n",
      "Epoch: 3/3... Loss: 0.4396\n",
      "Epoch: 3/3... Loss: 0.4616\n",
      "Epoch: 3/3... Loss: 0.4303\n",
      "Epoch: 3/3... Loss: 0.4276\n",
      "Epoch: 3/3... Loss: 0.4218\n",
      "Epoch: 3/3... Loss: 0.4386\n",
      "Epoch: 3/3... Loss: 0.4914\n",
      "Epoch: 3/3... Loss: 0.4403\n",
      "Epoch: 3/3... Loss: 0.4036\n",
      "Epoch: 3/3... Loss: 0.3981\n"
     ]
    }
   ],
   "source": [
    "# TODO: Train the network here\n",
    "epochs = 3\n",
    "print_every = 50\n",
    "steps = 0\n",
    "\n",
    "for e in range(epochs):\n",
    "    running_loss = 0\n",
    "    for images, labels in iter(trainloader):\n",
    "        steps +=1\n",
    "        #flatten the images\n",
    "        images.resize_(images.size()[0], 784)\n",
    "        optimizer.zero_grad()\n",
    "        \n",
    "        #forward pass\n",
    "        output = model.forward(images)\n",
    "        loss = criterion(output, labels)\n",
    "        loss.backward()\n",
    "        optimizer.step()\n",
    "        \n",
    "        running_loss += loss.item()\n",
    "        \n",
    "        if steps % print_every == 0:\n",
    "            print(\"Epoch: {}/{}...\".format(e+1, epochs),\n",
    "                 \"Loss: {:.4f}\".format(running_loss/print_every))\n",
    "            running_loss = 0        "
   ]
  },
  {
   "cell_type": "code",
   "execution_count": 20,
   "metadata": {},
   "outputs": [
    {
     "data": {
      "image/png": "[encoded data removed]",
      "text/plain": [
       "<matplotlib.figure.Figure at 0x7f4975dd8470>"
      ]
     },
     "metadata": {
      "image/png": {
       "height": 204,
       "width": 423
      },
      "needs_background": "light"
     },
     "output_type": "display_data"
    }
   ],
   "source": [
    "# Test out your network!\n",
    "\n",
    "dataiter = iter(testloader)\n",
    "images, labels = dataiter.next()\n",
    "img = images[0]\n",
    "# Convert 2D image to 1D vector\n",
    "img = img.resize_(1, 784)\n",
    "\n",
    "# TODO: Calculate the class probabilities (softmax) for img\n",
    "with torch.no_grad():\n",
    "    output = model.forward(img)\n",
    "\n",
    "ps = torch.exp(output)\n",
    "\n",
    "# Plot the image and probabilities\n",
    "helper.view_classify(img.resize_(1, 28, 28), ps, version='Fashion')"
   ]
  },
  {
   "cell_type": "markdown",
   "metadata": {},
   "source": [
    "Now that your network is trained, you'll want to save it to disk so you can load it later instead of training it again. Obviously, it's impractical to train a network every time you need one. In practice, you'll train it once, save the model, then reload it for further training or making predictions. In the next part, I'll show you how to save and load trained models."
   ]
  }
 ],
 "metadata": {
  "kernelspec": {
   "display_name": "Python 3",
   "language": "python",
   "name": "python3"
  },
  "language_info": {
   "codemirror_mode": {
    "name": "ipython",
    "version": 3
   },
   "file_extension": ".py",
   "mimetype": "text/x-python",
   "name": "python",
   "nbconvert_exporter": "python",
   "pygments_lexer": "ipython3",
   "version": "3.6.3"
  }
 },
 "nbformat": 4,
 "nbformat_minor": 2
}
