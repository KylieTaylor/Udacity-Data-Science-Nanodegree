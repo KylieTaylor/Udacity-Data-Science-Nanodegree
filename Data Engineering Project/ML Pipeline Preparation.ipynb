{
 "cells": [
  {
   "cell_type": "markdown",
   "metadata": {},
   "source": [
    "# ML Pipeline Preparation\n",
    "Follow the instructions below to help you create your ML pipeline.\n",
    "### 1. Import libraries and load data from database.\n",
    "- Import Python libraries\n",
    "- Load dataset from database with [`read_sql_table`](https://pandas.pydata.org/pandas-docs/stable/generated/pandas.read_sql_table.html)\n",
    "- Define feature and target variables X and Y"
   ]
  },
  {
   "cell_type": "code",
   "execution_count": 23,
   "metadata": {
    "scrolled": true
   },
   "outputs": [
    {
     "name": "stdout",
     "output_type": "stream",
     "text": [
      "[nltk_data] Downloading package punkt to /root/nltk_data...\n",
      "[nltk_data]   Package punkt is already up-to-date!\n",
      "[nltk_data] Downloading package wordnet to /root/nltk_data...\n",
      "[nltk_data]   Package wordnet is already up-to-date!\n"
     ]
    },
    {
     "data": {
      "text/plain": [
       "True"
      ]
     },
     "execution_count": 23,
     "metadata": {},
     "output_type": "execute_result"
    }
   ],
   "source": [
    "# import libraries\n",
    "import numpy as np\n",
    "import pandas as pd\n",
    "from sqlalchemy import create_engine\n",
    "import nltk\n",
    "from sklearn.pipeline import Pipeline\n",
    "from sklearn.model_selection import train_test_split, GridSearchCV\n",
    "from sklearn.metrics import classification_report, confusion_matrix, fbeta_score, scorer\n",
    "from sklearn.ensemble import GradientBoostingClassifier, RandomForestClassifier, AdaBoostClassifier\n",
    "from sklearn.feature_extraction.text import TfidfTransformer, CountVectorizer, HashingVectorizer\n",
    "from sklearn.multioutput import MultiOutputClassifier\n",
    "import pickle\n",
    "nltk.download('punkt')\n",
    "nltk.download('wordnet')"
   ]
  },
  {
   "cell_type": "code",
   "execution_count": 3,
   "metadata": {},
   "outputs": [
    {
     "data": {
      "text/html": [
       "<div>\n",
       "<style scoped>\n",
       "    .dataframe tbody tr th:only-of-type {\n",
       "        vertical-align: middle;\n",
       "    }\n",
       "\n",
       "    .dataframe tbody tr th {\n",
       "        vertical-align: top;\n",
       "    }\n",
       "\n",
       "    .dataframe thead th {\n",
       "        text-align: right;\n",
       "    }\n",
       "</style>\n",
       "<table border=\"1\" class=\"dataframe\">\n",
       "  <thead>\n",
       "    <tr style=\"text-align: right;\">\n",
       "      <th></th>\n",
       "      <th>id</th>\n",
       "      <th>message</th>\n",
       "      <th>original</th>\n",
       "      <th>genre</th>\n",
       "      <th>related</th>\n",
       "      <th>request</th>\n",
       "      <th>offer</th>\n",
       "      <th>aid_related</th>\n",
       "      <th>medical_help</th>\n",
       "      <th>medical_products</th>\n",
       "      <th>...</th>\n",
       "      <th>aid_centers</th>\n",
       "      <th>other_infrastructure</th>\n",
       "      <th>weather_related</th>\n",
       "      <th>floods</th>\n",
       "      <th>storm</th>\n",
       "      <th>fire</th>\n",
       "      <th>earthquake</th>\n",
       "      <th>cold</th>\n",
       "      <th>other_weather</th>\n",
       "      <th>direct_report</th>\n",
       "    </tr>\n",
       "  </thead>\n",
       "  <tbody>\n",
       "    <tr>\n",
       "      <th>0</th>\n",
       "      <td>2</td>\n",
       "      <td>Weather update - a cold front from Cuba that c...</td>\n",
       "      <td>Un front froid se retrouve sur Cuba ce matin. ...</td>\n",
       "      <td>direct</td>\n",
       "      <td>1</td>\n",
       "      <td>0</td>\n",
       "      <td>0</td>\n",
       "      <td>0</td>\n",
       "      <td>0</td>\n",
       "      <td>0</td>\n",
       "      <td>...</td>\n",
       "      <td>0</td>\n",
       "      <td>0</td>\n",
       "      <td>0</td>\n",
       "      <td>0</td>\n",
       "      <td>0</td>\n",
       "      <td>0</td>\n",
       "      <td>0</td>\n",
       "      <td>0</td>\n",
       "      <td>0</td>\n",
       "      <td>0</td>\n",
       "    </tr>\n",
       "    <tr>\n",
       "      <th>1</th>\n",
       "      <td>7</td>\n",
       "      <td>Is the Hurricane over or is it not over</td>\n",
       "      <td>Cyclone nan fini osinon li pa fini</td>\n",
       "      <td>direct</td>\n",
       "      <td>1</td>\n",
       "      <td>0</td>\n",
       "      <td>0</td>\n",
       "      <td>1</td>\n",
       "      <td>0</td>\n",
       "      <td>0</td>\n",
       "      <td>...</td>\n",
       "      <td>0</td>\n",
       "      <td>0</td>\n",
       "      <td>1</td>\n",
       "      <td>0</td>\n",
       "      <td>1</td>\n",
       "      <td>0</td>\n",
       "      <td>0</td>\n",
       "      <td>0</td>\n",
       "      <td>0</td>\n",
       "      <td>0</td>\n",
       "    </tr>\n",
       "    <tr>\n",
       "      <th>2</th>\n",
       "      <td>8</td>\n",
       "      <td>Looking for someone but no name</td>\n",
       "      <td>Patnm, di Maryani relem pou li banm nouvel li ...</td>\n",
       "      <td>direct</td>\n",
       "      <td>1</td>\n",
       "      <td>0</td>\n",
       "      <td>0</td>\n",
       "      <td>0</td>\n",
       "      <td>0</td>\n",
       "      <td>0</td>\n",
       "      <td>...</td>\n",
       "      <td>0</td>\n",
       "      <td>0</td>\n",
       "      <td>0</td>\n",
       "      <td>0</td>\n",
       "      <td>0</td>\n",
       "      <td>0</td>\n",
       "      <td>0</td>\n",
       "      <td>0</td>\n",
       "      <td>0</td>\n",
       "      <td>0</td>\n",
       "    </tr>\n",
       "    <tr>\n",
       "      <th>3</th>\n",
       "      <td>9</td>\n",
       "      <td>UN reports Leogane 80-90 destroyed. Only Hospi...</td>\n",
       "      <td>UN reports Leogane 80-90 destroyed. Only Hospi...</td>\n",
       "      <td>direct</td>\n",
       "      <td>1</td>\n",
       "      <td>1</td>\n",
       "      <td>0</td>\n",
       "      <td>1</td>\n",
       "      <td>0</td>\n",
       "      <td>1</td>\n",
       "      <td>...</td>\n",
       "      <td>0</td>\n",
       "      <td>0</td>\n",
       "      <td>0</td>\n",
       "      <td>0</td>\n",
       "      <td>0</td>\n",
       "      <td>0</td>\n",
       "      <td>0</td>\n",
       "      <td>0</td>\n",
       "      <td>0</td>\n",
       "      <td>0</td>\n",
       "    </tr>\n",
       "    <tr>\n",
       "      <th>4</th>\n",
       "      <td>12</td>\n",
       "      <td>says: west side of Haiti, rest of the country ...</td>\n",
       "      <td>facade ouest d Haiti et le reste du pays aujou...</td>\n",
       "      <td>direct</td>\n",
       "      <td>1</td>\n",
       "      <td>0</td>\n",
       "      <td>0</td>\n",
       "      <td>0</td>\n",
       "      <td>0</td>\n",
       "      <td>0</td>\n",
       "      <td>...</td>\n",
       "      <td>0</td>\n",
       "      <td>0</td>\n",
       "      <td>0</td>\n",
       "      <td>0</td>\n",
       "      <td>0</td>\n",
       "      <td>0</td>\n",
       "      <td>0</td>\n",
       "      <td>0</td>\n",
       "      <td>0</td>\n",
       "      <td>0</td>\n",
       "    </tr>\n",
       "  </tbody>\n",
       "</table>\n",
       "<p>5 rows × 40 columns</p>\n",
       "</div>"
      ],
      "text/plain": [
       "   id                                            message  \\\n",
       "0   2  Weather update - a cold front from Cuba that c...   \n",
       "1   7            Is the Hurricane over or is it not over   \n",
       "2   8                    Looking for someone but no name   \n",
       "3   9  UN reports Leogane 80-90 destroyed. Only Hospi...   \n",
       "4  12  says: west side of Haiti, rest of the country ...   \n",
       "\n",
       "                                            original   genre  related  \\\n",
       "0  Un front froid se retrouve sur Cuba ce matin. ...  direct        1   \n",
       "1                 Cyclone nan fini osinon li pa fini  direct        1   \n",
       "2  Patnm, di Maryani relem pou li banm nouvel li ...  direct        1   \n",
       "3  UN reports Leogane 80-90 destroyed. Only Hospi...  direct        1   \n",
       "4  facade ouest d Haiti et le reste du pays aujou...  direct        1   \n",
       "\n",
       "   request  offer  aid_related  medical_help  medical_products      ...        \\\n",
       "0        0      0            0             0                 0      ...         \n",
       "1        0      0            1             0                 0      ...         \n",
       "2        0      0            0             0                 0      ...         \n",
       "3        1      0            1             0                 1      ...         \n",
       "4        0      0            0             0                 0      ...         \n",
       "\n",
       "   aid_centers  other_infrastructure  weather_related  floods  storm  fire  \\\n",
       "0            0                     0                0       0      0     0   \n",
       "1            0                     0                1       0      1     0   \n",
       "2            0                     0                0       0      0     0   \n",
       "3            0                     0                0       0      0     0   \n",
       "4            0                     0                0       0      0     0   \n",
       "\n",
       "   earthquake  cold  other_weather  direct_report  \n",
       "0           0     0              0              0  \n",
       "1           0     0              0              0  \n",
       "2           0     0              0              0  \n",
       "3           0     0              0              0  \n",
       "4           0     0              0              0  \n",
       "\n",
       "[5 rows x 40 columns]"
      ]
     },
     "execution_count": 3,
     "metadata": {},
     "output_type": "execute_result"
    }
   ],
   "source": [
    "# load data from database\n",
    "engine = create_engine('sqlite:///disaster_relief_KT.db')\n",
    "df = pd.read_sql('SELECT * FROM disaster_relief_KT', engine)\n",
    "X = df.filter(items = ['id', 'message', 'original', 'genre'])\n",
    "Y = df.drop(['id', 'message', 'original', 'genre', 'child_alone'], axis=1)\n",
    "Y['related'] = Y['related'].map(lambda x: 1 if x == 2 else x)\n",
    "df.head()"
   ]
  },
  {
   "cell_type": "markdown",
   "metadata": {},
   "source": [
    "### 2. Write a tokenization function to process your text data"
   ]
  },
  {
   "cell_type": "code",
   "execution_count": 4,
   "metadata": {},
   "outputs": [],
   "source": [
    "def tokenize(text):\n",
    "    tokens = nltk.word_tokenize(text)\n",
    "    lemmatizer = nltk.WordNetLemmatizer()\n",
    "    return [lemmatizer.lemmatize(t).lower().strip() for t in tokens]"
   ]
  },
  {
   "cell_type": "markdown",
   "metadata": {},
   "source": [
    "### 3. Build a machine learning pipeline\n",
    "This machine pipeline should take in the `message` column as input and output classification results on the other 36 categories in the dataset. You may find the [MultiOutputClassifier](http://scikit-learn.org/stable/modules/generated/sklearn.multioutput.MultiOutputClassifier.html) helpful for predicting multiple target variables."
   ]
  },
  {
   "cell_type": "code",
   "execution_count": 5,
   "metadata": {},
   "outputs": [],
   "source": [
    "pipe = Pipeline([('cvet', CountVectorizer(tokenizer=tokenize)),\n",
    "                    ('tfdif', TfidfTransformer()),\n",
    "                    ('rfc', RandomForestClassifier())\n",
    "                    ])"
   ]
  },
  {
   "cell_type": "markdown",
   "metadata": {},
   "source": [
    "### 4. Train pipeline\n",
    "- Split data into train and test sets\n",
    "- Train pipeline"
   ]
  },
  {
   "cell_type": "code",
   "execution_count": 6,
   "metadata": {},
   "outputs": [
    {
     "data": {
      "text/plain": [
       "Pipeline(memory=None,\n",
       "     steps=[('cvet', CountVectorizer(analyzer='word', binary=False, decode_error='strict',\n",
       "        dtype=<class 'numpy.int64'>, encoding='utf-8', input='content',\n",
       "        lowercase=True, max_df=1.0, max_features=None, min_df=1,\n",
       "        ngram_range=(1, 1), preprocessor=None, stop_words=None,\n",
       "        strip...n_jobs=1,\n",
       "            oob_score=False, random_state=None, verbose=0,\n",
       "            warm_start=False))])"
      ]
     },
     "execution_count": 6,
     "metadata": {},
     "output_type": "execute_result"
    }
   ],
   "source": [
    "X_train, X_test, y_train, y_test = train_test_split(X, Y)\n",
    "pipe.fit(X_train['message'], y_train)"
   ]
  },
  {
   "cell_type": "markdown",
   "metadata": {},
   "source": [
    "### 5. Test your model\n",
    "Report the f1 score, precision and recall for each output category of the dataset. You can do this by iterating through the columns and calling sklearn's `classification_report` on each."
   ]
  },
  {
   "cell_type": "code",
   "execution_count": 7,
   "metadata": {},
   "outputs": [],
   "source": [
    "y_pred_train = pipe.predict(X_train['message'])\n",
    "y_pred_test = pipe.predict(X_test['message'])"
   ]
  },
  {
   "cell_type": "code",
   "execution_count": 8,
   "metadata": {
    "scrolled": true
   },
   "outputs": [
    {
     "name": "stdout",
     "output_type": "stream",
     "text": [
      "                        precision    recall  f1-score   support\n",
      "\n",
      "               related       0.84      0.90      0.87      5006\n",
      "               request       0.84      0.37      0.52      1158\n",
      "                 offer       0.00      0.00      0.00        28\n",
      "           aid_related       0.77      0.43      0.56      2718\n",
      "          medical_help       0.36      0.01      0.02       511\n",
      "      medical_products       0.58      0.02      0.04       340\n",
      "     search_and_rescue       0.80      0.02      0.04       187\n",
      "              security       0.00      0.00      0.00       110\n",
      "              military       0.60      0.01      0.02       237\n",
      "                 water       0.80      0.09      0.16       440\n",
      "                  food       0.86      0.30      0.44       711\n",
      "               shelter       0.89      0.11      0.20       586\n",
      "              clothing       0.29      0.02      0.04        99\n",
      "                 money       0.75      0.02      0.04       152\n",
      "        missing_people       1.00      0.01      0.03        71\n",
      "              refugees       0.17      0.00      0.01       218\n",
      "                 death       0.79      0.04      0.07       305\n",
      "             other_aid       0.58      0.02      0.03       883\n",
      "infrastructure_related       0.25      0.00      0.00       434\n",
      "             transport       1.00      0.02      0.04       319\n",
      "             buildings       0.75      0.03      0.05       338\n",
      "           electricity       1.00      0.01      0.02       131\n",
      "                 tools       0.00      0.00      0.00        43\n",
      "             hospitals       0.00      0.00      0.00        79\n",
      "                 shops       0.00      0.00      0.00        27\n",
      "           aid_centers       0.00      0.00      0.00        85\n",
      "  other_infrastructure       0.25      0.00      0.01       283\n",
      "       weather_related       0.86      0.41      0.56      1806\n",
      "                floods       0.91      0.13      0.23       551\n",
      "                 storm       0.80      0.18      0.29       618\n",
      "                  fire       0.00      0.00      0.00        61\n",
      "            earthquake       0.92      0.37      0.53       577\n",
      "                  cold       0.33      0.01      0.01       140\n",
      "         other_weather       0.67      0.01      0.02       333\n",
      "         direct_report       0.80      0.31      0.45      1287\n",
      "\n",
      "           avg / total       0.75      0.39      0.45     20872\n",
      "\n",
      "\n",
      "                         precision    recall  f1-score   support\n",
      "\n",
      "               related       1.00      1.00      1.00     15088\n",
      "               request       1.00      0.93      0.96      3316\n",
      "                 offer       1.00      0.67      0.80        90\n",
      "           aid_related       1.00      0.96      0.98      8142\n",
      "          medical_help       1.00      0.81      0.89      1573\n",
      "      medical_products       1.00      0.82      0.90       973\n",
      "     search_and_rescue       1.00      0.78      0.87       537\n",
      "              security       1.00      0.72      0.84       361\n",
      "              military       1.00      0.80      0.89       623\n",
      "                 water       1.00      0.89      0.94      1232\n",
      "                  food       1.00      0.93      0.96      2212\n",
      "               shelter       1.00      0.89      0.94      1728\n",
      "              clothing       1.00      0.84      0.91       306\n",
      "                 money       1.00      0.80      0.89       452\n",
      "        missing_people       1.00      0.73      0.84       227\n",
      "              refugees       1.00      0.82      0.90       657\n",
      "                 death       1.00      0.83      0.91       889\n",
      "             other_aid       1.00      0.83      0.91      2563\n",
      "infrastructure_related       1.00      0.77      0.87      1271\n",
      "             transport       1.00      0.76      0.86       882\n",
      "             buildings       1.00      0.83      0.91       995\n",
      "           electricity       1.00      0.79      0.88       401\n",
      "                 tools       1.00      0.72      0.84       116\n",
      "             hospitals       1.00      0.71      0.83       204\n",
      "                 shops       1.00      0.72      0.84        93\n",
      "           aid_centers       1.00      0.74      0.85       224\n",
      "  other_infrastructure       1.00      0.76      0.86       868\n",
      "       weather_related       1.00      0.95      0.97      5491\n",
      "                floods       1.00      0.86      0.93      1604\n",
      "                 storm       1.00      0.90      0.95      1825\n",
      "                  fire       1.00      0.80      0.89       221\n",
      "            earthquake       1.00      0.93      0.96      1878\n",
      "                  cold       1.00      0.82      0.90       390\n",
      "         other_weather       1.00      0.80      0.89      1043\n",
      "         direct_report       1.00      0.92      0.96      3788\n",
      "\n",
      "           avg / total       1.00      0.91      0.95     62263\n",
      "\n"
     ]
    },
    {
     "name": "stderr",
     "output_type": "stream",
     "text": [
      "/opt/conda/lib/python3.6/site-packages/sklearn/metrics/classification.py:1135: UndefinedMetricWarning: Precision and F-score are ill-defined and being set to 0.0 in labels with no predicted samples.\n",
      "  'precision', 'predicted', average, warn_for)\n"
     ]
    }
   ],
   "source": [
    "print(classification_report(y_test.values, y_pred_test, target_names = Y.columns.values))\n",
    "print('\\n',classification_report(y_train.values, y_pred_train, target_names = Y.columns.values))"
   ]
  },
  {
   "cell_type": "markdown",
   "metadata": {},
   "source": [
    "### 6. Improve your model\n",
    "Use grid search to find better parameters. "
   ]
  },
  {
   "cell_type": "code",
   "execution_count": 10,
   "metadata": {},
   "outputs": [],
   "source": [
    "parameters = {'rfc__max_depth':[5, None],\n",
    "              'rfc__n_estimators':[15, 50],\n",
    "              'rfc__min_samples_split':[5, 10],\n",
    "              'rfc__min_samples_leaf':[1, 5]\n",
    "             }\n",
    "\n",
    "cv = GridSearchCV(pipe, param_grid=parameters, scoring='f1_micro', verbose=1, n_jobs=1)"
   ]
  },
  {
   "cell_type": "code",
   "execution_count": 11,
   "metadata": {
    "scrolled": true
   },
   "outputs": [
    {
     "name": "stdout",
     "output_type": "stream",
     "text": [
      "Fitting 3 folds for each of 16 candidates, totalling 48 fits\n"
     ]
    },
    {
     "name": "stderr",
     "output_type": "stream",
     "text": [
      "[Parallel(n_jobs=1)]: Done  48 out of  48 | elapsed: 21.0min finished\n"
     ]
    },
    {
     "data": {
      "text/plain": [
       "GridSearchCV(cv=None, error_score='raise',\n",
       "       estimator=Pipeline(memory=None,\n",
       "     steps=[('cvet', CountVectorizer(analyzer='word', binary=False, decode_error='strict',\n",
       "        dtype=<class 'numpy.int64'>, encoding='utf-8', input='content',\n",
       "        lowercase=True, max_df=1.0, max_features=None, min_df=1,\n",
       "        ngram_range=(1, 1), preprocessor=None, stop_words=None,\n",
       "        strip...n_jobs=1,\n",
       "            oob_score=False, random_state=None, verbose=0,\n",
       "            warm_start=False))]),\n",
       "       fit_params=None, iid=True, n_jobs=1,\n",
       "       param_grid={'rfc__max_depth': [5, None], 'rfc__n_estimators': [15, 50], 'rfc__min_samples_split': [5, 10], 'rfc__min_samples_leaf': [1, 5]},\n",
       "       pre_dispatch='2*n_jobs', refit=True, return_train_score='warn',\n",
       "       scoring='f1_micro', verbose=1)"
      ]
     },
     "execution_count": 11,
     "metadata": {},
     "output_type": "execute_result"
    }
   ],
   "source": [
    "cv.fit(X_train['message'], y_train)"
   ]
  },
  {
   "cell_type": "markdown",
   "metadata": {},
   "source": [
    "### 7. Test your model\n",
    "Show the accuracy, precision, and recall of the tuned model.  \n",
    "\n",
    "Since this project focuses on code quality, process, and  pipelines, there is no minimum performance metric needed to pass. However, make sure to fine tune your models for accuracy, precision and recall to make your project stand out - especially for your portfolio!"
   ]
  },
  {
   "cell_type": "code",
   "execution_count": 12,
   "metadata": {},
   "outputs": [],
   "source": [
    "y_pred_train_cv = cv.predict(X_train['message'])\n",
    "y_pred_test_cv = cv.predict(X_test['message'])"
   ]
  },
  {
   "cell_type": "code",
   "execution_count": 13,
   "metadata": {},
   "outputs": [
    {
     "name": "stdout",
     "output_type": "stream",
     "text": [
      "                        precision    recall  f1-score   support\n",
      "\n",
      "               related       0.82      0.96      0.89      5006\n",
      "               request       0.88      0.41      0.56      1158\n",
      "                 offer       0.00      0.00      0.00        28\n",
      "           aid_related       0.81      0.51      0.62      2718\n",
      "          medical_help       0.67      0.01      0.02       511\n",
      "      medical_products       0.50      0.01      0.02       340\n",
      "     search_and_rescue       1.00      0.01      0.01       187\n",
      "              security       0.00      0.00      0.00       110\n",
      "              military       1.00      0.00      0.01       237\n",
      "                 water       0.93      0.12      0.21       440\n",
      "                  food       0.89      0.26      0.40       711\n",
      "               shelter       0.97      0.05      0.09       586\n",
      "              clothing       0.67      0.02      0.04        99\n",
      "                 money       0.67      0.01      0.03       152\n",
      "        missing_people       0.00      0.00      0.00        71\n",
      "              refugees       0.00      0.00      0.00       218\n",
      "                 death       1.00      0.03      0.05       305\n",
      "             other_aid       0.71      0.01      0.01       883\n",
      "infrastructure_related       0.33      0.00      0.00       434\n",
      "             transport       1.00      0.01      0.01       319\n",
      "             buildings       0.67      0.01      0.01       338\n",
      "           electricity       0.00      0.00      0.00       131\n",
      "                 tools       0.00      0.00      0.00        43\n",
      "             hospitals       0.00      0.00      0.00        79\n",
      "                 shops       0.00      0.00      0.00        27\n",
      "           aid_centers       0.00      0.00      0.00        85\n",
      "  other_infrastructure       0.33      0.00      0.01       283\n",
      "       weather_related       0.89      0.47      0.61      1806\n",
      "                floods       0.96      0.13      0.22       551\n",
      "                 storm       0.76      0.18      0.29       618\n",
      "                  fire       0.00      0.00      0.00        61\n",
      "            earthquake       0.92      0.41      0.57       577\n",
      "                  cold       1.00      0.01      0.01       140\n",
      "         other_weather       1.00      0.00      0.01       333\n",
      "         direct_report       0.87      0.33      0.48      1287\n",
      "\n",
      "           avg / total       0.79      0.41      0.46     20872\n",
      "\n",
      "\n",
      "                         precision    recall  f1-score   support\n",
      "\n",
      "               related       1.00      1.00      1.00     15088\n",
      "               request       1.00      0.95      0.97      3316\n",
      "                 offer       1.00      0.39      0.56        90\n",
      "           aid_related       1.00      0.99      1.00      8142\n",
      "          medical_help       1.00      0.83      0.90      1573\n",
      "      medical_products       1.00      0.78      0.88       973\n",
      "     search_and_rescue       1.00      0.63      0.77       537\n",
      "              security       1.00      0.51      0.67       361\n",
      "              military       1.00      0.84      0.91       623\n",
      "                 water       1.00      0.94      0.97      1232\n",
      "                  food       1.00      0.95      0.97      2212\n",
      "               shelter       1.00      0.92      0.96      1728\n",
      "              clothing       1.00      0.74      0.85       306\n",
      "                 money       1.00      0.68      0.81       452\n",
      "        missing_people       1.00      0.56      0.72       227\n",
      "              refugees       1.00      0.69      0.82       657\n",
      "                 death       1.00      0.78      0.88       889\n",
      "             other_aid       1.00      0.86      0.92      2563\n",
      "infrastructure_related       1.00      0.78      0.87      1271\n",
      "             transport       1.00      0.72      0.84       882\n",
      "             buildings       1.00      0.79      0.88       995\n",
      "           electricity       1.00      0.72      0.84       401\n",
      "                 tools       1.00      0.42      0.59       116\n",
      "             hospitals       1.00      0.65      0.79       204\n",
      "                 shops       1.00      0.52      0.68        93\n",
      "           aid_centers       1.00      0.58      0.73       224\n",
      "  other_infrastructure       1.00      0.72      0.83       868\n",
      "       weather_related       1.00      0.98      0.99      5491\n",
      "                floods       1.00      0.90      0.95      1604\n",
      "                 storm       1.00      0.94      0.97      1825\n",
      "                  fire       1.00      0.70      0.82       221\n",
      "            earthquake       1.00      0.95      0.97      1878\n",
      "                  cold       1.00      0.73      0.84       390\n",
      "         other_weather       1.00      0.73      0.84      1043\n",
      "         direct_report       1.00      0.94      0.97      3788\n",
      "\n",
      "           avg / total       1.00      0.92      0.95     62263\n",
      "\n"
     ]
    },
    {
     "name": "stderr",
     "output_type": "stream",
     "text": [
      "/opt/conda/lib/python3.6/site-packages/sklearn/metrics/classification.py:1135: UndefinedMetricWarning: Precision and F-score are ill-defined and being set to 0.0 in labels with no predicted samples.\n",
      "  'precision', 'predicted', average, warn_for)\n"
     ]
    }
   ],
   "source": [
    "print(classification_report(y_test.values, y_pred_test_cv, target_names = Y.columns.values))\n",
    "print('\\n',classification_report(y_train.values, y_pred_train_cv, target_names = Y.columns.values))"
   ]
  },
  {
   "cell_type": "markdown",
   "metadata": {},
   "source": [
    "### 8. Try improving your model further. Here are a few ideas:\n",
    "* try other machine learning algorithms\n",
    "* add other features besides the TF-IDF"
   ]
  },
  {
   "cell_type": "code",
   "execution_count": 14,
   "metadata": {},
   "outputs": [
    {
     "data": {
      "text/plain": [
       "{'rfc__max_depth': None,\n",
       " 'rfc__min_samples_leaf': 1,\n",
       " 'rfc__min_samples_split': 5,\n",
       " 'rfc__n_estimators': 50}"
      ]
     },
     "execution_count": 14,
     "metadata": {},
     "output_type": "execute_result"
    }
   ],
   "source": [
    "cv.best_params_"
   ]
  },
  {
   "cell_type": "code",
   "execution_count": 27,
   "metadata": {},
   "outputs": [
    {
     "data": {
      "text/plain": [
       "Pipeline(memory=None,\n",
       "     steps=[('hvet', HashingVectorizer(alternate_sign=True, analyzer='word', binary=False,\n",
       "         decode_error='strict', dtype=<class 'numpy.float64'>,\n",
       "         encoding='utf-8', input='content', lowercase=True,\n",
       "         n_features=1048576, ngram_range=(1, 1), non_negative=False,\n",
       "         norm='l2', pr...n_jobs=1,\n",
       "            oob_score=False, random_state=None, verbose=0,\n",
       "            warm_start=False))])"
      ]
     },
     "execution_count": 27,
     "metadata": {},
     "output_type": "execute_result"
    }
   ],
   "source": [
    "pipe2 = Pipeline([('hvet', HashingVectorizer(tokenizer=tokenize)),\n",
    "                  ('tfidf', TfidfTransformer()),\n",
    "                  ('rfc1', RandomForestClassifier())\n",
    "                 ])\n",
    "pipe2.fit(X_train['message'], y_train)"
   ]
  },
  {
   "cell_type": "code",
   "execution_count": 28,
   "metadata": {},
   "outputs": [],
   "source": [
    "y_pred_train2 = pipe2.predict(X_train['message'])\n",
    "y_pred_test2 = pipe2.predict(X_test['message'])"
   ]
  },
  {
   "cell_type": "code",
   "execution_count": 30,
   "metadata": {},
   "outputs": [
    {
     "name": "stdout",
     "output_type": "stream",
     "text": [
      "                        precision    recall  f1-score   support\n",
      "\n",
      "               related       0.82      0.92      0.87      5006\n",
      "               request       0.85      0.31      0.45      1158\n",
      "                 offer       0.00      0.00      0.00        28\n",
      "           aid_related       0.75      0.40      0.52      2718\n",
      "          medical_help       0.55      0.01      0.02       511\n",
      "      medical_products       0.80      0.02      0.05       340\n",
      "     search_and_rescue       0.50      0.01      0.01       187\n",
      "              security       0.50      0.01      0.02       110\n",
      "              military       0.50      0.00      0.01       237\n",
      "                 water       0.83      0.07      0.12       440\n",
      "                  food       0.85      0.21      0.33       711\n",
      "               shelter       0.82      0.04      0.07       586\n",
      "              clothing       0.50      0.04      0.07        99\n",
      "                 money       0.40      0.01      0.03       152\n",
      "        missing_people       1.00      0.03      0.05        71\n",
      "              refugees       0.00      0.00      0.00       218\n",
      "                 death       0.92      0.04      0.08       305\n",
      "             other_aid       0.43      0.01      0.03       883\n",
      "infrastructure_related       0.29      0.00      0.01       434\n",
      "             transport       1.00      0.00      0.01       319\n",
      "             buildings       0.62      0.01      0.03       338\n",
      "           electricity       0.00      0.00      0.00       131\n",
      "                 tools       0.00      0.00      0.00        43\n",
      "             hospitals       0.00      0.00      0.00        79\n",
      "                 shops       0.00      0.00      0.00        27\n",
      "           aid_centers       0.00      0.00      0.00        85\n",
      "  other_infrastructure       0.33      0.01      0.01       283\n",
      "       weather_related       0.82      0.30      0.44      1806\n",
      "                floods       0.78      0.04      0.07       551\n",
      "                 storm       0.65      0.08      0.14       618\n",
      "                  fire       0.00      0.00      0.00        61\n",
      "            earthquake       0.88      0.22      0.35       577\n",
      "                  cold       0.25      0.01      0.01       140\n",
      "         other_weather       0.75      0.01      0.02       333\n",
      "         direct_report       0.79      0.25      0.38      1287\n",
      "\n",
      "           avg / total       0.72      0.35      0.40     20872\n",
      "\n",
      "\n",
      "                         precision    recall  f1-score   support\n",
      "\n",
      "               related       0.99      1.00      1.00     15088\n",
      "               request       1.00      0.94      0.97      3316\n",
      "                 offer       1.00      0.76      0.86        90\n",
      "           aid_related       1.00      0.97      0.98      8142\n",
      "          medical_help       1.00      0.82      0.90      1573\n",
      "      medical_products       1.00      0.84      0.91       973\n",
      "     search_and_rescue       1.00      0.76      0.86       537\n",
      "              security       1.00      0.71      0.83       361\n",
      "              military       1.00      0.82      0.90       623\n",
      "                 water       1.00      0.89      0.94      1232\n",
      "                  food       1.00      0.92      0.96      2212\n",
      "               shelter       1.00      0.88      0.93      1728\n",
      "              clothing       1.00      0.85      0.92       306\n",
      "                 money       1.00      0.74      0.85       452\n",
      "        missing_people       1.00      0.74      0.85       227\n",
      "              refugees       1.00      0.76      0.86       657\n",
      "                 death       1.00      0.83      0.90       889\n",
      "             other_aid       1.00      0.85      0.92      2563\n",
      "infrastructure_related       1.00      0.80      0.89      1271\n",
      "             transport       1.00      0.76      0.86       882\n",
      "             buildings       1.00      0.84      0.91       995\n",
      "           electricity       1.00      0.79      0.88       401\n",
      "                 tools       1.00      0.68      0.81       116\n",
      "             hospitals       1.00      0.77      0.87       204\n",
      "                 shops       1.00      0.73      0.84        93\n",
      "           aid_centers       1.00      0.73      0.85       224\n",
      "  other_infrastructure       1.00      0.77      0.87       868\n",
      "       weather_related       1.00      0.95      0.97      5491\n",
      "                floods       1.00      0.87      0.93      1604\n",
      "                 storm       1.00      0.89      0.94      1825\n",
      "                  fire       1.00      0.68      0.81       221\n",
      "            earthquake       1.00      0.93      0.96      1878\n",
      "                  cold       1.00      0.77      0.87       390\n",
      "         other_weather       1.00      0.78      0.87      1043\n",
      "         direct_report       1.00      0.93      0.96      3788\n",
      "\n",
      "           avg / total       1.00      0.91      0.95     62263\n",
      "\n"
     ]
    },
    {
     "name": "stderr",
     "output_type": "stream",
     "text": [
      "/opt/conda/lib/python3.6/site-packages/sklearn/metrics/classification.py:1135: UndefinedMetricWarning: Precision and F-score are ill-defined and being set to 0.0 in labels with no predicted samples.\n",
      "  'precision', 'predicted', average, warn_for)\n"
     ]
    }
   ],
   "source": [
    "print(classification_report(y_test.values, y_pred_test2, target_names = Y.columns.values))\n",
    "print('\\n',classification_report(y_train.values,  y_pred_train2, target_names = Y.columns.values))"
   ]
  },
  {
   "cell_type": "markdown",
   "metadata": {},
   "source": [
    "### 9. Export your model as a pickle file"
   ]
  },
  {
   "cell_type": "code",
   "execution_count": 31,
   "metadata": {},
   "outputs": [],
   "source": [
    "model_rfc = pickle.dumps('rfc')"
   ]
  },
  {
   "cell_type": "markdown",
   "metadata": {},
   "source": [
    "### 10. Use this notebook to complete `train.py`\n",
    "Use the template file attached in the Resources folder to write a script that runs the steps above to create a database and export a model based on a new dataset specified by the user."
   ]
  },
  {
   "cell_type": "code",
   "execution_count": null,
   "metadata": {},
   "outputs": [],
   "source": []
  }
 ],
 "metadata": {
  "kernelspec": {
   "display_name": "Python 3",
   "language": "python",
   "name": "python3"
  },
  "language_info": {
   "codemirror_mode": {
    "name": "ipython",
    "version": 3
   },
   "file_extension": ".py",
   "mimetype": "text/x-python",
   "name": "python",
   "nbconvert_exporter": "python",
   "pygments_lexer": "ipython3",
   "version": "3.6.3"
  }
 },
 "nbformat": 4,
 "nbformat_minor": 2
}
